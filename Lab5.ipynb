{
 "cells": [
  {
   "cell_type": "code",
   "execution_count": 3,
   "id": "8f50e41a-384a-4866-b65f-c9a542e69587",
   "metadata": {},
   "outputs": [
    {
     "name": "stdout",
     "output_type": "stream",
     "text": [
      "[[ 1.  2.  3.  4.  5.]\n",
      " [ 6.  7.  8.  9. 10.]]\n",
      "[[ True  True  True  True  True]\n",
      " [ True  True  True  True  True]]\n"
     ]
    }
   ],
   "source": [
    "#Task 1\n",
    "import numpy as np\n",
    "arr=np.array([[1,2,3,4,5],[6,7,8,9,10]] ,dtype=float)\n",
    "print(arr)\n",
    "print(arr.astype(bool))"
   ]
  },
  {
   "cell_type": "code",
   "execution_count": 4,
   "id": "6e4ef105-9ab6-43c1-aa59-af86d563409f",
   "metadata": {},
   "outputs": [
    {
     "name": "stdout",
     "output_type": "stream",
     "text": [
      "[ 1  2 55  3  4  5]\n"
     ]
    }
   ],
   "source": [
    "#Task 2\n",
    "import numpy as np\n",
    "a=np.array([1,2,3,4,5])\n",
    "b=np.insert(a,2,55,axis=0) \n",
    "print(b)"
   ]
  },
  {
   "cell_type": "code",
   "execution_count": 5,
   "id": "8d7aa8e1-fdfd-425b-ad89-6b2dc4660c8c",
   "metadata": {},
   "outputs": [
    {
     "name": "stdout",
     "output_type": "stream",
     "text": [
      "[  0   2   4   6   8  10  12  14  16  18  20  22  24  26  28  30  32  34\n",
      "  36  38  40  42  44  46  48  50  52  54  56  58  60  62  64  66  68  70\n",
      "  72  74  76  78  80  82  84  86  88  90  92  94  96  98 100]\n"
     ]
    }
   ],
   "source": [
    "#Task 3\n",
    "import numpy as np\n",
    "arr=np.arange(0,101,2)\n",
    "print(arr)"
   ]
  },
  {
   "cell_type": "code",
   "execution_count": 8,
   "id": "4fd5fe06-22c6-40e4-93ef-3182b06cee66",
   "metadata": {},
   "outputs": [
    {
     "name": "stdout",
     "output_type": "stream",
     "text": [
      "55\n"
     ]
    }
   ],
   "source": [
    "#Task 4\n",
    "import numpy as np\n",
    "a=np.array([1,2,3,4,5])\n",
    "b=np.array([1,2,3,4,5])\n",
    "c=np.dot(a,b)\n",
    "print(c)"
   ]
  },
  {
   "cell_type": "code",
   "execution_count": 14,
   "id": "12d7b14b-8b5b-4eba-94b3-7c3bc404324b",
   "metadata": {},
   "outputs": [
    {
     "name": "stdout",
     "output_type": "stream",
     "text": [
      "[1 2 3 4 5]\n"
     ]
    },
    {
     "name": "stdin",
     "output_type": "stream",
     "text": [
      "Enter a number 8\n"
     ]
    },
    {
     "name": "stdout",
     "output_type": "stream",
     "text": [
      "The number 8 is not present in the array: [1 2 3 4 5]\n"
     ]
    }
   ],
   "source": [
    "#Task 5\n",
    "import numpy as np\n",
    "arr=np.array([1,2,3,4,5])\n",
    "print(arr)\n",
    "num=int(input(\"Enter a number\"))\n",
    "if num in arr:\n",
    "    print(\"The number\",+num, \"is present in the array:\",+arr)\n",
    "else:\n",
    "    print(\"The number\",+num, \"is not present in the array:\",+arr)"
   ]
  },
  {
   "cell_type": "code",
   "execution_count": null,
   "id": "203cfca0-be42-404f-af91-809e4a0bb754",
   "metadata": {},
   "outputs": [],
   "source": []
  }
 ],
 "metadata": {
  "kernelspec": {
   "display_name": "Python 3 (ipykernel)",
   "language": "python",
   "name": "python3"
  },
  "language_info": {
   "codemirror_mode": {
    "name": "ipython",
    "version": 3
   },
   "file_extension": ".py",
   "mimetype": "text/x-python",
   "name": "python",
   "nbconvert_exporter": "python",
   "pygments_lexer": "ipython3",
   "version": "3.12.4"
  }
 },
 "nbformat": 4,
 "nbformat_minor": 5
}
