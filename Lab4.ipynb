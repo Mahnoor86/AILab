{
 "cells": [
  {
   "cell_type": "code",
   "execution_count": 2,
   "id": "76ee4186-1cc8-4850-92a3-1debbc1556ef",
   "metadata": {},
   "outputs": [
    {
     "data": {
      "text/plain": [
       "[7, 5, 3, 0, 2]"
      ]
     },
     "execution_count": 2,
     "metadata": {},
     "output_type": "execute_result"
    }
   ],
   "source": [
    "# Task1\n",
    "list=[7,5,3,0,2]\n",
    "def sumlist(list):\n",
    "    return (list)\n",
    "sumlist(list)"
   ]
  },
  {
   "cell_type": "code",
   "execution_count": 18,
   "id": "5ec43fa9-49cc-4af9-972a-c1460b1800ca",
   "metadata": {},
   "outputs": [
    {
     "name": "stdout",
     "output_type": "stream",
     "text": [
      "Present\n"
     ]
    }
   ],
   "source": [
    "# task2\n",
    "def present(roll_number, present_students):\n",
    "    if roll_number in present_students:\n",
    "        return \"Present\"\n",
    "    else:\n",
    "        return \"Absent\"\n",
    "        \n",
    "present_students = [101, 102,103,104,105]\n",
    "\n",
    "roll_number = 101\n",
    "res=present(roll_number,present_students)\n",
    "print(res)"
   ]
  },
  {
   "cell_type": "code",
   "execution_count": 8,
   "id": "e9c1eeef-faf8-46e0-a927-7275333d388b",
   "metadata": {},
   "outputs": [
    {
     "name": "stdout",
     "output_type": "stream",
     "text": [
      "Mahnoor 23\n",
      "Update name Nimra\n",
      "Update age 43753\n"
     ]
    }
   ],
   "source": [
    "# task 3\n",
    "class student:\n",
    "    def __init__(self, name, age):\n",
    "        self.name = name\n",
    "        self.age = age\n",
    "s1=student(\"Mahnoor\",23)\n",
    "print(s1.name,s1.age)\n",
    "student.name = \"Nimra\"\n",
    "student.age = 43753\n",
    "print(\"Update name\",student.name)\n",
    "print(\"Update age\",student.age)"
   ]
  },
  {
   "cell_type": "code",
   "execution_count": 11,
   "id": "4b535642-352d-4e50-97c7-c86ffd6a1232",
   "metadata": {},
   "outputs": [
    {
     "name": "stdout",
     "output_type": "stream",
     "text": [
      "Mahnoor 23\n",
      "Laiba 22\n",
      "Nimra 22\n"
     ]
    }
   ],
   "source": [
    "#task4\n",
    "class student:\n",
    "    def __init__(self,name,age):\n",
    "        self.name=name\n",
    "        self.age=age\n",
    "p1=student(\"Mahnoor\",23)\n",
    "print(p1.name,p1.age)\n",
    "p2=student(\"Laiba\",22)\n",
    "print(p2.name,p2.age)\n",
    "p3=student(\"Nimra\",22)\n",
    "print(p3.name,p3.age)"
   ]
  },
  {
   "cell_type": "code",
   "execution_count": 22,
   "id": "d00eed63-9219-4cee-80b5-b7d78a4b1f2d",
   "metadata": {},
   "outputs": [
    {
     "name": "stdout",
     "output_type": "stream",
     "text": [
      "Mahnoor has an average grade of 84.33333333333333\n"
     ]
    }
   ],
   "source": [
    "# task5\n",
    "class student:\n",
    "    def __init__(self,name,age,grade):\n",
    "        self.name=name\n",
    "        self.age=age\n",
    "        self.grade=grade\n",
    "\n",
    "    def average_grade(self):\n",
    "        total = sum(self.grade)\n",
    "        count = len(self.grade)\n",
    "        return total / count\n",
    "\n",
    "\n",
    "s1 = student(\"Mahnoor\", 21, [85, 90, 78])\n",
    "\n",
    "average = s1.average_grade()\n",
    "print(s1.name, \"has an average grade of\", average)"
   ]
  },
  {
   "cell_type": "code",
   "execution_count": null,
   "id": "06fad860-db83-49d3-90ef-a211eeff7bb3",
   "metadata": {},
   "outputs": [],
   "source": []
  }
 ],
 "metadata": {
  "kernelspec": {
   "display_name": "Python 3 (ipykernel)",
   "language": "python",
   "name": "python3"
  },
  "language_info": {
   "codemirror_mode": {
    "name": "ipython",
    "version": 3
   },
   "file_extension": ".py",
   "mimetype": "text/x-python",
   "name": "python",
   "nbconvert_exporter": "python",
   "pygments_lexer": "ipython3",
   "version": "3.12.4"
  }
 },
 "nbformat": 4,
 "nbformat_minor": 5
}
