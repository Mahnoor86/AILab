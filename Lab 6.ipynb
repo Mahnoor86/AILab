{
 "cells": [
  {
   "cell_type": "code",
   "execution_count": 7,
   "id": "518ad88a-f49f-40fb-8465-6ef37e56e058",
   "metadata": {},
   "outputs": [
    {
     "name": "stdout",
     "output_type": "stream",
     "text": [
      "Initial environment conditions: {'A': 1, 'B': 1, 'C': 0, 'D': 0}\n",
      "Vacuum is randomly placed at Location D.\n",
      "Location D is Clean.\n",
      "Location D is already Clean.\n",
      "Moving to Location A...\n",
      "Location A is Dirty.\n",
      "Location A has been Cleaned.\n",
      "Moving to Location B...\n",
      "Location B is Dirty.\n",
      "Location B has been Cleaned.\n",
      "Moving to Location C...\n",
      "Location C is Clean.\n",
      "Location C is already Clean.\n",
      "Moving to Location D...\n",
      "Location D is Clean.\n",
      "Location D is already Clean.\n",
      "Final environment conditions: {'A': 0, 'B': 0, 'C': 0, 'D': 0}\n",
      "Performance Measurement: 2\n"
     ]
    }
   ],
   "source": [
    "import random\n",
    "\n",
    "# Define the environment with four locations\n",
    "class Environment:\n",
    "    def __init__(self):\n",
    "        # Initialize location conditions randomly (0: clean, 1: dirty)\n",
    "        self.locationCondition = {\n",
    "            'A': random.randint(0, 1),  # 1 means dirty, 0 means clean\n",
    "            'B': random.randint(0, 1),\n",
    "            'C': random.randint(0, 1),\n",
    "            'D': random.randint(0, 1)\n",
    "        }\n",
    "\n",
    "# Define the simple reflex agent\n",
    "class SimpleReflexVacuumAgent:\n",
    "    def __init__(self, environment):\n",
    "        self.environment = environment\n",
    "        self.score = 0  # To track performance (number of cleaned locations)\n",
    "        self.vacuumLocation = random.choice(['A', 'B', 'C', 'D'])  # Randomly place vacuum at one of four locations\n",
    "\n",
    "        # Display the initial condition of the environment\n",
    "        print(\"Initial environment conditions:\", self.environment.locationCondition)\n",
    "        \n",
    "        # Perform cleaning based on the initial vacuum location\n",
    "        print(f\"Vacuum is randomly placed at Location {self.vacuumLocation}.\")\n",
    "        self.clean_location(self.vacuumLocation)\n",
    "\n",
    "        # Move to the next locations in sequence and clean\n",
    "        self.move_and_clean(['A', 'B', 'C', 'D'])\n",
    "\n",
    "        # Output final conditions and score\n",
    "        print(\"Final environment conditions:\", self.environment.locationCondition)\n",
    "        print(\"Performance Measurement: \" + str(self.score))\n",
    "\n",
    "    def clean_location(self, location):\n",
    "        print(f\"Location {location} is {'Dirty' if self.environment.locationCondition[location] == 1 else 'Clean'}.\")\n",
    "        if self.environment.locationCondition[location] == 1:  # If dirty\n",
    "            self.environment.locationCondition[location] = 0  # Clean the location\n",
    "            self.score += 1\n",
    "            print(f\"Location {location} has been Cleaned.\")\n",
    "        else:\n",
    "            print(f\"Location {location} is already Clean.\")\n",
    "\n",
    "    def move_and_clean(self, locations):\n",
    "        for location in locations:\n",
    "            print(f\"Moving to Location {location}...\")\n",
    "            self.clean_location(location)\n",
    "\n",
    "# Create an environment and a vacuum agent\n",
    "theEnvironment = Environment()\n",
    "theVacuum = SimpleReflexVacuumAgent(theEnvironment)\n"
   ]
  },
  {
   "cell_type": "code",
   "execution_count": null,
   "id": "9d96f461-fe8b-4eb5-b958-8fd05ab2806e",
   "metadata": {},
   "outputs": [],
   "source": []
  }
 ],
 "metadata": {
  "kernelspec": {
   "display_name": "Python 3 (ipykernel)",
   "language": "python",
   "name": "python3"
  },
  "language_info": {
   "codemirror_mode": {
    "name": "ipython",
    "version": 3
   },
   "file_extension": ".py",
   "mimetype": "text/x-python",
   "name": "python",
   "nbconvert_exporter": "python",
   "pygments_lexer": "ipython3",
   "version": "3.12.4"
  }
 },
 "nbformat": 4,
 "nbformat_minor": 5
}
