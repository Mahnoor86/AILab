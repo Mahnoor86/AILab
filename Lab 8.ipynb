{
 "cells": [
  {
   "cell_type": "code",
   "execution_count": 1,
   "id": "e201f9c8-a02d-4c32-b9fc-807d0c2a83fc",
   "metadata": {},
   "outputs": [
    {
     "name": "stdout",
     "output_type": "stream",
     "text": [
      "['A', 'B', 'D']\n"
     ]
    }
   ],
   "source": [
    "def find_path(graph, start, end, path=[]):\n",
    "    path = path + [start]\n",
    "    if start == end:\n",
    "        return path\n",
    "    if start not in graph:\n",
    "        return None\n",
    "    for node in graph[start]:\n",
    "        if node not in path:\n",
    "            newpath = find_path(graph, node, end, path)\n",
    "            if newpath:\n",
    "                return newpath\n",
    "    return None\n",
    "\n",
    "graph = {\n",
    "    'A': ['B', 'C'],\n",
    "    'B': ['D'],\n",
    "    'C': ['E'],\n",
    "    'D': ['C', 'E'],\n",
    "    'E': []\n",
    "}\n",
    "\n",
    "print(find_path(graph, 'A', 'D'))"
   ]
  },
  {
   "cell_type": "code",
   "execution_count": 2,
   "id": "14a23853-e0d1-4597-8e52-d262476c6c8c",
   "metadata": {},
   "outputs": [
    {
     "name": "stdout",
     "output_type": "stream",
     "text": [
      "Shortest Path (A to E): ['A', 'B', 'C', 'D', 'E']\n",
      "Neighbors of B: ['C']\n",
      "Edge A -> B exists? True\n"
     ]
    }
   ],
   "source": [
    "# Directed Graph\n",
    "directed_graph = {\n",
    "    'A': ['B'],\n",
    "    'B': ['C'],\n",
    "    'C': ['D'],\n",
    "    'D': ['E'],\n",
    "    'E': [],\n",
    "    'F': [],\n",
    "    'G': []\n",
    "}\n",
    "\n",
    "# Un-directed Graph\n",
    "undirected_graph = {\n",
    "    'A': ['B'],\n",
    "    'B': ['A', 'C'],\n",
    "    'C': ['B', 'D'],\n",
    "    'D': ['C', 'E'],\n",
    "    'E': ['D'],\n",
    "    'F': [],\n",
    "    'G': []\n",
    "}\n",
    "\n",
    "# Weighted Graph\n",
    "weighted_graph = {\n",
    "    'A': {'B': 1},\n",
    "    'B': {'C': 2},\n",
    "    'C': {'D': 3},\n",
    "    'D': {'E': 4},\n",
    "    'E': {},\n",
    "    'F': {},\n",
    "    'G': {}\n",
    "}\n",
    "\n",
    "# Shortest path (simple BFS for unweighted or weighted with equal weights)\n",
    "def find_shortest_path(graph, start, end):\n",
    "    queue = [(start, [start])]\n",
    "    while queue:\n",
    "        (node, path) = queue.pop(0)\n",
    "        for neighbor in graph.get(node, {}):\n",
    "            if neighbor == end:\n",
    "                return path + [neighbor]\n",
    "            else:\n",
    "                queue.append((neighbor, path + [neighbor]))\n",
    "    return None\n",
    "\n",
    "# Find neighbors of a node\n",
    "def find_neighbors(graph, node):\n",
    "    return graph.get(node, [])\n",
    "\n",
    "# Check if edge exists\n",
    "def edge_exists(graph, node1, node2):\n",
    "    return node2 in graph.get(node1, {})\n",
    "\n",
    "# Test cases\n",
    "print(\"Shortest Path (A to E):\", find_shortest_path(weighted_graph, 'A', 'E'))\n",
    "print(\"Neighbors of B:\", find_neighbors(directed_graph, 'B'))\n",
    "print(\"Edge A -> B exists?\", edge_exists(weighted_graph, 'A', 'B'))"
   ]
  },
  {
   "cell_type": "code",
   "execution_count": null,
   "id": "361235c2-ea0e-4b5d-aac1-33121981d02b",
   "metadata": {},
   "outputs": [],
   "source": []
  }
 ],
 "metadata": {
  "kernelspec": {
   "display_name": "Python 3 (ipykernel)",
   "language": "python",
   "name": "python3"
  },
  "language_info": {
   "codemirror_mode": {
    "name": "ipython",
    "version": 3
   },
   "file_extension": ".py",
   "mimetype": "text/x-python",
   "name": "python",
   "nbconvert_exporter": "python",
   "pygments_lexer": "ipython3",
   "version": "3.12.4"
  }
 },
 "nbformat": 4,
 "nbformat_minor": 5
}
